{
 "cells": [
  {
   "cell_type": "markdown",
   "metadata": {},
   "source": [
    "# **Some Operations on OpenCV**\n",
    "\n",
    "These set of notebooks correspond to the tutorial provided by [ProgrammingKnowldge](https://www.youtube.com/channel/UCs6nmQViDpUw0nuIx9c_WvA) YouTube channel which consists of a series of videos as a way of introducing OpenCV with Python. You can also check the full tutorial (around 9 hours and 23 minutes of length) at the following [link](https://www.youtube.com/watch?v=N81PCpADwKQ).\n",
    "\n",
    "In this particular notebook, we'll see how to interact with OpenCV, including:\n",
    "\n",
    "- OpenCV image operation methods (cv.split, cv.merge, etc)\n",
    "- Bitwise operations (AND, OR, NOT and XOR)\n",
    "- How to bind trackbar to OpenCV"
   ]
  },
  {
   "cell_type": "code",
   "execution_count": 1,
   "metadata": {},
   "outputs": [
    {
     "name": "stdout",
     "output_type": "stream",
     "text": [
      "4.5.1\n"
     ]
    }
   ],
   "source": [
    "import cv2\n",
    "import os\n",
    "import numpy as np\n",
    "\n",
    "path = 'C:\\\\Users\\\\Aristi\\\\Documents\\\\Cursos\\\\OpenCV\\\\SampleImages'\n",
    "os.chdir(path)\n",
    "\n",
    "print(cv2.__version__)"
   ]
  },
  {
   "cell_type": "markdown",
   "metadata": {},
   "source": [
    "## **1. Basic image operations**\n",
    "\n",
    "First of all, we can get different attributes of an image with the help of some methods as:\n",
    "- `img.shape` will return a tuple of number of rows, cols and channels.\n",
    "- `img.size` will return the total number of pixels that are accessed.\n",
    "- `img.dtype` will return the dataype of the image that is obtained."
   ]
  },
  {
   "cell_type": "code",
   "execution_count": 2,
   "metadata": {},
   "outputs": [
    {
     "name": "stdout",
     "output_type": "stream",
     "text": [
      "The shape of the image is:  (342, 548, 3)\n",
      "The size of the image is:  562248\n",
      "The datatype of the image is:  uint8\n"
     ]
    }
   ],
   "source": [
    "img = cv2.imread('messi5.jpg')\n",
    "\n",
    "print('The shape of the image is: ', img.shape)\n",
    "print('The size of the image is: ', img.size)\n",
    "print('The datatype of the image is: ', img.dtype)\n",
    "\n",
    "cv2.imshow('image', img)\n",
    "\n",
    "cv2.waitKey(0)\n",
    "cv2.destroyAllWindows()"
   ]
  },
  {
   "cell_type": "markdown",
   "metadata": {},
   "source": [
    "## **1.1 Splitting and merging**\n",
    "\n",
    "As we already know, colored images work with three channels (BGR): blue, green and red. We can separate these channels for just seeing one of those three colors with the use of the `split()` method. "
   ]
  },
  {
   "cell_type": "code",
   "execution_count": 4,
   "metadata": {},
   "outputs": [],
   "source": [
    "img = cv2.imread('messi5.jpg')\n",
    "\n",
    "b, g, r = cv2.split(img)\n",
    "\n",
    "cv2.imshow('Blue Messi', r)\n",
    "\n",
    "cv2.waitKey(0)\n",
    "cv2.destroyAllWindows()"
   ]
  },
  {
   "cell_type": "markdown",
   "metadata": {},
   "source": [
    "The opposite operation would be the `merge()` method in order to merge different channels into the image."
   ]
  },
  {
   "cell_type": "code",
   "execution_count": 7,
   "metadata": {},
   "outputs": [],
   "source": [
    "img = cv2.imread('messi5.jpg')\n",
    "\n",
    "b, g, r = cv2.split(img)\n",
    "new_img = cv2.merge((b, g, r))\n",
    "\n",
    "cv2.imshow('Merged Messi', new_img)\n",
    "\n",
    "cv2.waitKey(0)\n",
    "cv2.destroyAllWindows()"
   ]
  },
  {
   "cell_type": "markdown",
   "metadata": {},
   "source": [
    "We can combine these two methods for making, for example, an image with only the red color."
   ]
  },
  {
   "cell_type": "code",
   "execution_count": 11,
   "metadata": {},
   "outputs": [],
   "source": [
    "img = cv2.imread('messi5.jpg')\n",
    "h, w, c = img.shape\n",
    "\n",
    "b, g, r = cv2.split(img)\n",
    "zero_channel = np.zeros((h, w, 1), np.uint8)\n",
    "\n",
    "new_img = cv2.merge((zero_channel, zero_channel, r))\n",
    "\n",
    "cv2.imshow('Red Messi', new_img)\n",
    "\n",
    "cv2.waitKey(0)\n",
    "cv2.destroyAllWindows()"
   ]
  },
  {
   "cell_type": "markdown",
   "metadata": {},
   "source": [
    "The same can be achieved for the other colors:"
   ]
  },
  {
   "cell_type": "code",
   "execution_count": 13,
   "metadata": {},
   "outputs": [],
   "source": [
    "img = cv2.imread('messi5.jpg')\n",
    "h, w, c = img.shape\n",
    "\n",
    "b, g, r = cv2.split(img)\n",
    "zero_channel = np.zeros((h, w, 1), np.uint8)\n",
    "\n",
    "new_img = cv2.merge((b, zero_channel, zero_channel))\n",
    "\n",
    "cv2.imshow('Blue Messi', new_img)\n",
    "\n",
    "cv2.waitKey(0)\n",
    "cv2.destroyAllWindows()"
   ]
  },
  {
   "cell_type": "code",
   "execution_count": 14,
   "metadata": {},
   "outputs": [],
   "source": [
    "img = cv2.imread('messi5.jpg')\n",
    "h, w, c = img.shape\n",
    "\n",
    "b, g, r = cv2.split(img)\n",
    "zero_channel = np.zeros((h, w, 1), np.uint8)\n",
    "\n",
    "new_img = cv2.merge((zero_channel, g, zero_channel))\n",
    "\n",
    "cv2.imshow('Green Messi', new_img)\n",
    "\n",
    "cv2.waitKey(0)\n",
    "cv2.destroyAllWindows()"
   ]
  },
  {
   "cell_type": "markdown",
   "metadata": {},
   "source": [
    "## **1.2 Region of Interest (ROI)**\n",
    "\n",
    "Sometimes we want to work with a certain region within an image, this is called the `Region Of Interest (ROI)`. For example, in the image of Messi of an example, our ROI could be just the ball.\n",
    "\n",
    "Let's copy the ball and paste it somewhere else. First, we'd need to determine the coordinates of the ball that in this case, the upper-left corner of the ball would be in the (280x340) pixel and the right-bottom corner is on the (330x390) pixel.\n",
    "\n",
    "Then, we are gonna use the `img[]` slicers and place it whenever we want, i.e: between (273x333) and (100x160)."
   ]
  },
  {
   "cell_type": "code",
   "execution_count": 17,
   "metadata": {},
   "outputs": [],
   "source": [
    "img = cv2.imread('messi5.jpg')\n",
    "\n",
    "ball = img[280:340, 330:390]\n",
    "\n",
    "img[273:333, 100:160] = ball\n",
    "\n",
    "cv2.imshow('Green Messi', img)\n",
    "\n",
    "cv2.waitKey(0)\n",
    "cv2.destroyAllWindows()"
   ]
  },
  {
   "cell_type": "markdown",
   "metadata": {},
   "source": [
    "## **1.3 Add and AddWeighted methods**\n",
    "\n",
    "Let's use the OpenCV logo (that is of the same size of the ball) and use the `add()` method for merging the content of two images. They should be of the same size."
   ]
  },
  {
   "cell_type": "code",
   "execution_count": 25,
   "metadata": {},
   "outputs": [],
   "source": [
    "img = cv2.imread('messi5.jpg')\n",
    "img2 = cv2.imread('opencv-logo.png')\n",
    "\n",
    "ball = img[280:340, 330:390]\n",
    "img[273:333, 100:160] = ball\n",
    "\n",
    "img = cv2.resize(img, (512, 512))\n",
    "img2 = cv2.resize(img2, (512, 512))\n",
    "\n",
    "dest = cv2.add(img, img2)\n",
    "cv2.imshow('Add method', dest)\n",
    "\n",
    "cv2.waitKey(0)\n",
    "cv2.destroyAllWindows()"
   ]
  },
  {
   "cell_type": "markdown",
   "metadata": {},
   "source": [
    "Another useful method is the `addWeighted()` that helps us weight the images we are adding. The first argument of this method is the first image, followed by its weight (alpha), and then the second image followed by its weight (beta). As the 5th argument we have gamma that is just a scalar added."
   ]
  },
  {
   "cell_type": "code",
   "execution_count": 32,
   "metadata": {},
   "outputs": [],
   "source": [
    "img = cv2.imread('messi5.jpg')\n",
    "img2 = cv2.imread('opencv-logo.png')\n",
    "\n",
    "ball = img[280:340, 330:390]\n",
    "img[273:333, 100:160] = ball\n",
    "\n",
    "img = cv2.resize(img, (512, 512))\n",
    "img2 = cv2.resize(img2, (512, 512))\n",
    "\n",
    "dest = cv2.addWeighted(img, 0.8, img2, 0.2, 0)\n",
    "cv2.imshow('Add method', dest)\n",
    "\n",
    "cv2.waitKey(0)\n",
    "cv2.destroyAllWindows()"
   ]
  },
  {
   "cell_type": "markdown",
   "metadata": {},
   "source": [
    "If the weights are inverted this should be the result:"
   ]
  },
  {
   "cell_type": "code",
   "execution_count": 33,
   "metadata": {},
   "outputs": [],
   "source": [
    "img = cv2.imread('messi5.jpg')\n",
    "img2 = cv2.imread('opencv-logo.png')\n",
    "\n",
    "ball = img[280:340, 330:390]\n",
    "img[273:333, 100:160] = ball\n",
    "\n",
    "img = cv2.resize(img, (512, 512))\n",
    "img2 = cv2.resize(img2, (512, 512))\n",
    "\n",
    "dest = cv2.addWeighted(img, 0.2, img2, 0.8, 0)\n",
    "cv2.imshow('Add method', dest)\n",
    "\n",
    "cv2.waitKey(0)\n",
    "cv2.destroyAllWindows()"
   ]
  },
  {
   "cell_type": "markdown",
   "metadata": {},
   "source": [
    "And by adding some value to the gamma argument:"
   ]
  },
  {
   "cell_type": "code",
   "execution_count": 34,
   "metadata": {},
   "outputs": [],
   "source": [
    "img = cv2.imread('messi5.jpg')\n",
    "img2 = cv2.imread('opencv-logo.png')\n",
    "\n",
    "ball = img[280:340, 330:390]\n",
    "img[273:333, 100:160] = ball\n",
    "\n",
    "img = cv2.resize(img, (512, 512))\n",
    "img2 = cv2.resize(img2, (512, 512))\n",
    "\n",
    "dest = cv2.addWeighted(img, 0.2, img2, 0.8, 100)\n",
    "cv2.imshow('Add method', dest)\n",
    "\n",
    "cv2.waitKey(0)\n",
    "cv2.destroyAllWindows()"
   ]
  },
  {
   "cell_type": "markdown",
   "metadata": {},
   "source": [
    "# **2. Bitwise operations**\n",
    "\n",
    "This operations helps us to make some operations but in some pixels we determine a ceratin rule and not in all the pixels of the image.\n",
    "\n",
    "For example, we are gonna create a black image with a white rectangle for making some of these operations."
   ]
  },
  {
   "cell_type": "code",
   "execution_count": 2,
   "metadata": {},
   "outputs": [],
   "source": [
    "img = np.zeros((250, 500, 3), np.uint8)\n",
    "img = cv2.rectangle(img, (200, 0), (300, 100), (255, 255, 255), -1)\n",
    "\n",
    "img2 = cv2.imread('LinuxLogo.jpg')\n",
    "\n",
    "cv2.imshow('White rectangle in black background', img)\n",
    "cv2.imshow('Image 2', img2)\n",
    "\n",
    "cv2.waitKey(0)\n",
    "cv2.destroyAllWindows()"
   ]
  },
  {
   "cell_type": "markdown",
   "metadata": {},
   "source": [
    "## **2.1 Bit AND operator**\n",
    "\n",
    "For this operator we use the `bitwise_and()` method for showing in a result image the pixels that exactly match in both images. The 1st argument is the first image, then the second image.\n",
    "\n",
    "For this we need the resize the images so they match."
   ]
  },
  {
   "cell_type": "code",
   "execution_count": 6,
   "metadata": {},
   "outputs": [
    {
     "name": "stdout",
     "output_type": "stream",
     "text": [
      "(250, 500, 3)\n",
      "(240, 320, 3)\n"
     ]
    }
   ],
   "source": [
    "img = np.zeros((250, 500, 3), np.uint8)\n",
    "img = cv2.rectangle(img, (200, 0), (300, 200), (255, 255, 255), -1)\n",
    "\n",
    "img2 = cv2.imread('LinuxLogo.jpg')\n",
    "\n",
    "print(img.shape)\n",
    "print(img2.shape)\n",
    "\n",
    "#bitAnd = cv2.bitwise_and(img2, img)\n",
    "\n",
    "cv2.imshow('Image 1', img)\n",
    "cv2.imshow('Image 2', img2)\n",
    "#cv2.imshow('Result', bitAnd)\n",
    "\n",
    "cv2.waitKey(0)\n",
    "cv2.destroyAllWindows()"
   ]
  },
  {
   "cell_type": "code",
   "execution_count": 14,
   "metadata": {},
   "outputs": [
    {
     "name": "stdout",
     "output_type": "stream",
     "text": [
      "(240, 320, 3)\n",
      "(240, 320, 3)\n"
     ]
    }
   ],
   "source": [
    "img = np.zeros((250, 500, 1), np.uint8)\n",
    "aux = np.ones((250, 500, 1), np.uint8) * 255\n",
    "img = cv2.merge((img, img, aux))\n",
    "img = cv2.rectangle(img, (200, 0), (300, 200), (255, 255, 255), -1)\n",
    "\n",
    "img2 = cv2.imread('LinuxLogo.jpg')\n",
    "h, w, c = img2.shape\n",
    "img = cv2.resize(img, (w, h))\n",
    "\n",
    "print(img.shape)\n",
    "print(img2.shape)\n",
    "\n",
    "bitAnd = cv2.bitwise_and(img2, img)\n",
    "\n",
    "cv2.imshow('Image 1', img)\n",
    "cv2.imshow('Image 2', img2)\n",
    "cv2.imshow('Result', bitAnd)\n",
    "\n",
    "cv2.waitKey(0)\n",
    "cv2.destroyAllWindows()"
   ]
  },
  {
   "cell_type": "markdown",
   "metadata": {},
   "source": [
    "## **2.2 Bit OR operator**\n",
    "\n",
    "Let's see how this operator work with the `bitwise_or()` operator."
   ]
  },
  {
   "cell_type": "code",
   "execution_count": 18,
   "metadata": {},
   "outputs": [
    {
     "name": "stdout",
     "output_type": "stream",
     "text": [
      "(240, 320, 3)\n",
      "(240, 320, 3)\n"
     ]
    }
   ],
   "source": [
    "img = np.zeros((250, 500, 1), np.uint8)\n",
    "aux = np.ones((250, 500, 1), np.uint8) * 255\n",
    "img = cv2.merge((img, img, aux))\n",
    "img = cv2.rectangle(img, (200, 0), (300, 200), (255, 255, 255), -1)\n",
    "\n",
    "img2 = cv2.imread('LinuxLogo.jpg')\n",
    "h, w, c = img2.shape\n",
    "img = cv2.resize(img, (w, h))\n",
    "\n",
    "print(img.shape)\n",
    "print(img2.shape)\n",
    "\n",
    "bitOr = cv2.bitwise_or(img2, img)\n",
    "\n",
    "cv2.imshow('Image 1', img)\n",
    "cv2.imshow('Image 2', img2)\n",
    "cv2.imshow('Result', bitOr)\n",
    "\n",
    "cv2.waitKey(0)\n",
    "cv2.destroyAllWindows()"
   ]
  },
  {
   "cell_type": "markdown",
   "metadata": {},
   "source": [
    "## **2.3 Bit XOR operator**\n",
    "\n",
    "Let's see how this operator work with the `bitwise_xor()` operator. XOR operator means \"one or another but NOT both at the same time\"."
   ]
  },
  {
   "cell_type": "code",
   "execution_count": 19,
   "metadata": {},
   "outputs": [
    {
     "name": "stdout",
     "output_type": "stream",
     "text": [
      "(240, 320, 3)\n",
      "(240, 320, 3)\n"
     ]
    }
   ],
   "source": [
    "img = np.zeros((250, 500, 1), np.uint8)\n",
    "aux = np.ones((250, 500, 1), np.uint8) * 255\n",
    "img = cv2.merge((img, img, aux))\n",
    "img = cv2.rectangle(img, (200, 0), (300, 200), (255, 255, 255), -1)\n",
    "\n",
    "img2 = cv2.imread('LinuxLogo.jpg')\n",
    "h, w, c = img2.shape\n",
    "img = cv2.resize(img, (w, h))\n",
    "\n",
    "print(img.shape)\n",
    "print(img2.shape)\n",
    "\n",
    "bitXor = cv2.bitwise_xor(img2, img)\n",
    "\n",
    "cv2.imshow('Image 1', img)\n",
    "cv2.imshow('Image 2', img2)\n",
    "cv2.imshow('Result', bitXor)\n",
    "\n",
    "cv2.waitKey(0)\n",
    "cv2.destroyAllWindows()"
   ]
  },
  {
   "cell_type": "markdown",
   "metadata": {},
   "source": [
    "## **2.4 Bit NOT operator**\n",
    "\n",
    "Let's see how this operator work with the `bitwise_not()` operator."
   ]
  },
  {
   "cell_type": "code",
   "execution_count": 24,
   "metadata": {},
   "outputs": [
    {
     "name": "stdout",
     "output_type": "stream",
     "text": [
      "(240, 320, 3)\n",
      "(240, 320, 3)\n"
     ]
    }
   ],
   "source": [
    "img = np.zeros((250, 500, 1), np.uint8)\n",
    "aux = np.ones((250, 500, 1), np.uint8) * 255\n",
    "img = cv2.merge((img, img, aux))\n",
    "img = cv2.rectangle(img, (200, 0), (300, 200), (255, 255, 255), -1)\n",
    "\n",
    "img2 = cv2.imread('LinuxLogo.jpg')\n",
    "h, w, c = img2.shape\n",
    "img = cv2.resize(img, (w, h))\n",
    "\n",
    "print(img.shape)\n",
    "print(img2.shape)\n",
    "\n",
    "bitNot = cv2.bitwise_not(img)\n",
    "bitNot2 = cv2.bitwise_not(img2)\n",
    "\n",
    "cv2.imshow('Image 1', img)\n",
    "cv2.imshow('Image 2', img2)\n",
    "cv2.imshow('Result 1', bitNot)\n",
    "cv2.imshow('Result 2', bitNot2)\n",
    "\n",
    "cv2.waitKey(0)\n",
    "cv2.destroyAllWindows()"
   ]
  },
  {
   "cell_type": "markdown",
   "metadata": {},
   "source": [
    "# **3. Trackbars in OpenCV**\n",
    "\n",
    "Trackbars are really useful when you want to change some value in your images dinamically at runtime."
   ]
  },
  {
   "cell_type": "code",
   "execution_count": null,
   "metadata": {},
   "outputs": [],
   "source": []
  }
 ],
 "metadata": {
  "kernelspec": {
   "display_name": "Python 3",
   "language": "python",
   "name": "python3"
  },
  "language_info": {
   "codemirror_mode": {
    "name": "ipython",
    "version": 3
   },
   "file_extension": ".py",
   "mimetype": "text/x-python",
   "name": "python",
   "nbconvert_exporter": "python",
   "pygments_lexer": "ipython3",
   "version": "3.8.2"
  }
 },
 "nbformat": 4,
 "nbformat_minor": 4
}
