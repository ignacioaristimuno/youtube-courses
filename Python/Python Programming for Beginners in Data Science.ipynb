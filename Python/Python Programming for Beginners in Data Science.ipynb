{
 "cells": [
  {
   "cell_type": "markdown",
   "metadata": {},
   "source": [
    "# Python Programming for Beginners in Data Science"
   ]
  },
  {
   "cell_type": "markdown",
   "metadata": {},
   "source": [
    "# 1. Standard libraries"
   ]
  },
  {
   "cell_type": "markdown",
   "metadata": {},
   "source": [
    "## 1.1 DateTime Module\n",
    "\n",
    "__Summary:__ Date and time calculations can get pretty unmanegable if we have to do it by ourselves without helo from external libraries. Python has standard libraries that let us deal with this. There four main objects in this library: Date, Time, DateDelta and DateTime."
   ]
  },
  {
   "cell_type": "markdown",
   "metadata": {},
   "source": [
    "### 1.1.1 Date Object\n",
    "\n",
    "At first, we need to import this library for using it. For creating a date we can use:"
   ]
  },
  {
   "cell_type": "code",
   "execution_count": 10,
   "metadata": {},
   "outputs": [
    {
     "data": {
      "text/plain": [
       "datetime.date(2020, 4, 27)"
      ]
     },
     "execution_count": 10,
     "metadata": {},
     "output_type": "execute_result"
    }
   ],
   "source": [
    "from datetime import date\n",
    "\n",
    "stored_date = date(2020,1,22)\n",
    "today = date.today()\n",
    "\n",
    "today\n"
   ]
  },
  {
   "cell_type": "markdown",
   "metadata": {},
   "source": [
    "Also, we can extract a specific day, month or year from an already initialized date:"
   ]
  },
  {
   "cell_type": "code",
   "execution_count": 16,
   "metadata": {},
   "outputs": [
    {
     "data": {
      "text/plain": [
       "4"
      ]
     },
     "execution_count": 16,
     "metadata": {},
     "output_type": "execute_result"
    }
   ],
   "source": [
    "today_day = today.day\n",
    "today_month = today.month\n",
    "\n",
    "today_month\n"
   ]
  },
  {
   "cell_type": "markdown",
   "metadata": {},
   "source": [
    "We can replace a determined day, month or year with:"
   ]
  },
  {
   "cell_type": "code",
   "execution_count": 17,
   "metadata": {},
   "outputs": [
    {
     "data": {
      "text/plain": [
       "datetime.date(2019, 4, 27)"
      ]
     },
     "execution_count": 17,
     "metadata": {},
     "output_type": "execute_result"
    }
   ],
   "source": [
    "today = today.replace(year = 2019)\n",
    "today\n"
   ]
  },
  {
   "cell_type": "markdown",
   "metadata": {},
   "source": [
    "To know in which weekday we are located, we can use the __.weekday()__ function, where the week starts with Monday (index = 0) and starts with Sunday (index = 6):"
   ]
  },
  {
   "cell_type": "code",
   "execution_count": 19,
   "metadata": {},
   "outputs": [
    {
     "data": {
      "text/plain": [
       "0"
      ]
     },
     "execution_count": 19,
     "metadata": {},
     "output_type": "execute_result"
    }
   ],
   "source": [
    "today = date.today()\n",
    "today.weekday()"
   ]
  },
  {
   "cell_type": "markdown",
   "metadata": {},
   "source": [
    "We can also format the date as we want with __date.strftime()__. For example: \n",
    "\n",
    " - __'%a__'  is the abbreviated weekdat name (Mon, Tue, Wed, ...)\n",
    " - __'%A'__  is the full weekday name (Monday, Tuesday, Wednesday, ...)\n",
    " - __'%w'__  shows the number of the day (0, 1, 2 ..., 6)\n",
    " - __'%d'__  displays the day with a zero in the front if there is only one significant figure (01, 05, 11, ... )\n",
    " - __'%-d'__  the day as a decimal number (1, 2, 1, ... )\n",
    " - __'%b'__  abbreviated month name (Jan, Feb, ... )\n",
    " - __'%B'__  full month name (January, Febraury, ... )\n",
    " - __'%m'__  month number with a zero in the front if only one s.f. (01, 05, 11, ... )\n",
    " - __'%y'__  las two digits of the year (97, 99, 01, 20, ... )\n",
    " - __'%Y'__  whole year number (1997, 1999, 2001, 2020, ... ) "
   ]
  },
  {
   "cell_type": "code",
   "execution_count": 21,
   "metadata": {},
   "outputs": [
    {
     "name": "stdout",
     "output_type": "stream",
     "text": [
      "Date time object: 2018-06-12 06:55:22\n",
      "Output 2: 06/12/2018, 06:55:22\n",
      "Output 3: 12 Jun, 2018\n",
      "Output 4: 12 June, 2018\n",
      "Output 5: 06AM\n"
     ]
    }
   ],
   "source": [
    "from datetime import datetime\n",
    "\n",
    "timestamp = 1528797322\n",
    "date_time = datetime.fromtimestamp(timestamp)\n",
    "\n",
    "print(\"Date time object:\", date_time)\n",
    "\n",
    "d = date_time.strftime(\"%m/%d/%Y, %H:%M:%S\")\n",
    "print(\"Output 2:\", d)\t\n",
    "\n",
    "d = date_time.strftime(\"%d %b, %Y\")\n",
    "print(\"Output 3:\", d)\n",
    "\n",
    "d = date_time.strftime(\"%d %B, %Y\")\n",
    "print(\"Output 4:\", d)\n",
    "\n",
    "d = date_time.strftime(\"%I%p\")\n",
    "print(\"Output 5:\", d)\n"
   ]
  },
  {
   "cell_type": "markdown",
   "metadata": {},
   "source": [
    "### 1.1.2 TimeDelta object\n",
    "\n",
    "__Summary:__ TimeDelta object is used for obtaining the difference between a DateTime object and another DateTime object (date, times and datetimes). Also we used timedelta objects to add or substract a set of days/hours/minutes to a current DateTime object.\n",
    "\n",
    "For example:"
   ]
  },
  {
   "cell_type": "code",
   "execution_count": 25,
   "metadata": {},
   "outputs": [
    {
     "data": {
      "text/plain": [
       "datetime.date(2020, 5, 6)"
      ]
     },
     "execution_count": 25,
     "metadata": {},
     "output_type": "execute_result"
    }
   ],
   "source": [
    "from datetime import date, timedelta\n",
    "\n",
    "today = date( 2020, 4, 27 )\n",
    "tomorrow = today + timedelta( days = 9)\n",
    "\n",
    "tomorrow\n"
   ]
  },
  {
   "cell_type": "markdown",
   "metadata": {},
   "source": [
    "Another example could be to answer the following question: How much days do I have to finish a task with a deadline?"
   ]
  },
  {
   "cell_type": "code",
   "execution_count": 29,
   "metadata": {},
   "outputs": [
    {
     "data": {
      "text/plain": [
       "datetime.timedelta(days=11)"
      ]
     },
     "execution_count": 29,
     "metadata": {},
     "output_type": "execute_result"
    }
   ],
   "source": [
    "today = date.today()\n",
    "task = date( 2020 , 5 , 8 )\n",
    "\n",
    "days_left = task - today\n",
    "days_left\n"
   ]
  },
  {
   "cell_type": "markdown",
   "metadata": {},
   "source": [
    "We can also have boolean values (these are not timedelta), e.g:"
   ]
  },
  {
   "cell_type": "code",
   "execution_count": 33,
   "metadata": {},
   "outputs": [
    {
     "data": {
      "text/plain": [
       "bool"
      ]
     },
     "execution_count": 33,
     "metadata": {},
     "output_type": "execute_result"
    }
   ],
   "source": [
    "boolean_dt = task > today\n",
    "type(boolean_dt)"
   ]
  },
  {
   "cell_type": "markdown",
   "metadata": {},
   "source": [
    "__Important:__ For __timedelta()__ you can only enter days/weeks/hours/minutes/seconds between the parenthesis but not months nor years.\n",
    "\n",
    "__Exercise:__ Calculate the number of days between today and your following birthday."
   ]
  },
  {
   "cell_type": "code",
   "execution_count": 40,
   "metadata": {},
   "outputs": [
    {
     "data": {
      "text/plain": [
       "datetime.timedelta(days=129)"
      ]
     },
     "execution_count": 40,
     "metadata": {},
     "output_type": "execute_result"
    }
   ],
   "source": [
    "def days_for_birthday(birthday):\n",
    "    \n",
    "    today = date.today()\n",
    "    if ( birthday.month > today.month ) or ( ( birthday.month == today.month ) and ( birthday.day > today.day) ):\n",
    "        birthday = birthday.replace( year = today.year )\n",
    "        return ( birthday - today )\n",
    "    else:\n",
    "        birthday = birthday.replace( year = today.year + 1 )\n",
    "        return ( today - birthday )\n",
    "\n",
    "birthday = date( 1997, 9, 3 )\n",
    "how_many_days = days_for_birthday(birthday)\n",
    "\n",
    "how_many_days\n"
   ]
  },
  {
   "cell_type": "markdown",
   "metadata": {},
   "source": [
    "### 1.1.3 Time object\n",
    "\n",
    "__Summary:__ It's basically identical to Date, with the difference that we have hours, minutes, seconds and microseconds instead of the date parameters. We now have the following functions:\n",
    "\n",
    " - now = __time(__ 13, 12, 21, 32000 __)__\n",
    " - now __.hour__\n",
    " - now __.minute__\n",
    " - now __.second__\n",
    " - now __.microsecond__\n",
    " - now __.replace(__ hour = 2 ) __)__\n",
    " - now __.strftime(__ '%I' __)__\n",
    "\n",
    "Where the most useful formats are:\n",
    "\n",
    " - __'%H'__ for hour in 24-hour-clock as a zero-padded decimal (00, 01, 15, ... )\n",
    " - __'%h'__ for hour in 24-hour-clock (0, 1, 15, ... )\n",
    " - __'%I'__ for hour in 12-hour-clock as a zero-padded decimal (00, 01, 11, ... ) not >= 12\n",
    " - __'%i'__ for hour in 24-hour-clock (0, 1, 11, ... ) not >= 12\n",
    " \n",
    " And the same pattern is used for minutes, seconds and microseconds with the use of lowercase and uppercase."
   ]
  },
  {
   "cell_type": "markdown",
   "metadata": {},
   "source": [
    "We also have another time method that we can with __time.time()__. This will give us the number of seconds that passed since a determined fixed date, which is the 1st of January of 1970 (1/1/1970) named 'epoch'. This is useful for making functions that can retrieve the time that elapsed since a particular event.\n",
    "\n",
    "For this we have to import the time module with: __import__ time or by,\n",
    "\n",
    "Then, to know how much seconds have elapsed since the 1/1/1970, we can do the following code:"
   ]
  },
  {
   "cell_type": "code",
   "execution_count": 121,
   "metadata": {},
   "outputs": [
    {
     "data": {
      "text/plain": [
       "1588022706.495981"
      ]
     },
     "execution_count": 121,
     "metadata": {},
     "output_type": "execute_result"
    }
   ],
   "source": [
    "import time\n",
    "\n",
    "time.time()"
   ]
  },
  {
   "cell_type": "markdown",
   "metadata": {},
   "source": [
    "It can be used for calculating the runtime of a code. This is usdeful for optimizing code, by taking the time of each peace of code, we can determine which peace is the one that is having some runtime problems. For example:"
   ]
  },
  {
   "cell_type": "code",
   "execution_count": 125,
   "metadata": {},
   "outputs": [
    {
     "data": {
      "text/plain": [
       "1.7179932594299316"
      ]
     },
     "execution_count": 125,
     "metadata": {},
     "output_type": "execute_result"
    }
   ],
   "source": [
    "before = time.time()\n",
    "sum = 0\n",
    "for i in range(10000000):\n",
    "    sum += i\n",
    "after = time.time()\n",
    "time_taken = after - before\n",
    "time_taken\n"
   ]
  },
  {
   "cell_type": "markdown",
   "metadata": {},
   "source": [
    "We can also use the __time.localtime()__ function to give us the local date and time in the form of a tupple: (year, month, day, hour, minute, seconds, weekday, year_day, isdist)"
   ]
  },
  {
   "cell_type": "code",
   "execution_count": 127,
   "metadata": {},
   "outputs": [
    {
     "data": {
      "text/plain": [
       "time.struct_time(tm_year=2020, tm_mon=4, tm_mday=27, tm_hour=18, tm_min=31, tm_sec=42, tm_wday=0, tm_yday=118, tm_isdst=0)"
      ]
     },
     "execution_count": 127,
     "metadata": {},
     "output_type": "execute_result"
    }
   ],
   "source": [
    "today = time.localtime()\n",
    "today"
   ]
  },
  {
   "cell_type": "markdown",
   "metadata": {},
   "source": [
    "### 1.1.4 DateTime object\n",
    "\n",
    "__Summary:__ It's basically a combination of Date at Time. As same as before, we can use the __.datetime()__ formula and also the __datetime.now()__. And obviously we can still usea timedeltas."
   ]
  },
  {
   "cell_type": "code",
   "execution_count": 133,
   "metadata": {},
   "outputs": [
    {
     "data": {
      "text/plain": [
       "datetime.datetime(2020, 4, 27, 18, 37, 11, 931691)"
      ]
     },
     "execution_count": 133,
     "metadata": {},
     "output_type": "execute_result"
    }
   ],
   "source": [
    "import datetime as dt\n",
    "\n",
    "now = dt.datetime.now()\n",
    "now\n"
   ]
  },
  {
   "cell_type": "code",
   "execution_count": 142,
   "metadata": {},
   "outputs": [
    {
     "name": "stdout",
     "output_type": "stream",
     "text": [
      "2020-05-12 00:00:00\n",
      "2020-05-12 05:32:59\n",
      "32\n"
     ]
    },
    {
     "data": {
      "text/plain": [
       "'27-Apr-2020'"
      ]
     },
     "execution_count": 142,
     "metadata": {},
     "output_type": "execute_result"
    }
   ],
   "source": [
    "date = dt.datetime( 2020, 5, 12 )\n",
    "print(date)\n",
    "\n",
    "date_2 = dt.datetime( 2020, 5, 12, 5, 32, 59)\n",
    "print(date_2)\n",
    "\n",
    "print(date_2.minute) # Do not confuse with minimum (.min)\n",
    "\n",
    "date_3 = dt.datetime.now()\n",
    "date_3.strftime('%d-%b-%Y')\n"
   ]
  },
  {
   "cell_type": "markdown",
   "metadata": {},
   "source": [
    "With the function __.strftime()__ we managed to convert a datetime value into a specific formatted string. However, we can also another functional called __.strptime()__ which allows as to convert a specific formated string datetime into a actual datetime object. It would be the inverse of the .strftime() method."
   ]
  },
  {
   "cell_type": "code",
   "execution_count": 148,
   "metadata": {},
   "outputs": [
    {
     "name": "stdout",
     "output_type": "stream",
     "text": [
      "Dec-18-2019\n"
     ]
    },
    {
     "data": {
      "text/plain": [
       "datetime.datetime(2019, 12, 18, 0, 0)"
      ]
     },
     "execution_count": 148,
     "metadata": {},
     "output_type": "execute_result"
    }
   ],
   "source": [
    "string_date = 'Dec-18-2019'\n",
    "print(string_date)\n",
    "\n",
    "actual_date = dt.datetime.strptime( string_date, '%b-%d-%Y' )\n",
    "actual_date\n"
   ]
  },
  {
   "cell_type": "markdown",
   "metadata": {},
   "source": [
    "# 1.2 Read & Write files\n",
    "\n",
    "Text files, image files and others, are usually accessed to work with data. Usually in Pyhton, and specifically in Machine Learning we will use standardize libraries for reading and writing files (.csv, .tsv, .xlsx, etc). However, sometimes the data we access is not in this format, and we will have to work with these and convert it into a standardize format for later use.\n",
    "\n",
    "In order to do that, there are some libraries thar are optimized to use standardize files, as in __Pandas__ or __NumPy__. However, in this lecture, we are gonna see how to work with other non standardized formats."
   ]
  },
  {
   "cell_type": "markdown",
   "metadata": {},
   "source": [
    "## 1.2.1 File types\n",
    "\n",
    "Typically there are two types of files: text and binary files. For reading a file, we use the __open(__\"location\\file_name.txt.\"__,__ \"mode\"__)__ function and __.close()__ for closing it. To check if a file has been closed, we can use de __.closed__ binary parameter. The mode can be:\n",
    "\n",
    " - __'r'__  for reading a file.\n",
    " - __'w'__  for writting a file.\n",
    " - __'x'__  for exclusive writting a file.\n",
    " - __'a'__  for appending a file to another.\n",
    " - __'t'__  to enter to 'text mode'.\n",
    " - __'b'__  to enter to binary mode.\n",
    " - __'+'__  for reading and writting files.\n",
    "\n",
    "It's important to remark that in order to do the backslash symbol (\\\\) we have to make a doble backslash (\\\\\\\\) for Windows' paths. In case of Mac or Linux, using the slash si sufficient.\n",
    "\n",
    "Then, if we open the file with the __r__ mode (meant for reading the file). This will just get the pointer of the file to the memory and assing it to a variable. We can use the var_of_openfile __.read()__ to fully read it. This can be useful for printing this file.\n",
    "\n",
    "For reading a line of the file we can use the var_of_openfile __.readline()__. By using this function repeatedly, we acces the following line and so on. And after the lines have been read, it displays nothing. For reading every line and printing it we can also use the following code:"
   ]
  },
  {
   "cell_type": "code",
   "execution_count": null,
   "metadata": {},
   "outputs": [],
   "source": [
    "f = open ( \"\\\\file_folder\\\\file_name.txt\" , \"r\" )\n",
    "\n",
    "for line in f:\n",
    "    print(line)\n",
    "    \n",
    "f.close()"
   ]
  },
  {
   "cell_type": "markdown",
   "metadata": {},
   "source": [
    "Pictures, for example, are binary files and can not be read it with this command. You can not print and imagewith print line, we need a different type of formatting for that, as an image viewer."
   ]
  },
  {
   "cell_type": "markdown",
   "metadata": {},
   "source": [
    "We can handle error, e.g: not closing files; with the __'with as'__ command. This will close automatically the file if an exeption occurs. For example:"
   ]
  },
  {
   "cell_type": "code",
   "execution_count": null,
   "metadata": {},
   "outputs": [],
   "source": [
    "with open ( \"\\\\file_folder\\\\file_name.txt\" , \"a\" ) as file_var:\n",
    "    expeption_example = 1/0\n",
    "    file_var.write(\"a new line to the file\")\n",
    "\n",
    "# The with will automatically close the file as an exeption occurs."
   ]
  },
  {
   "cell_type": "markdown",
   "metadata": {},
   "source": [
    "# 1.3 Math libraries\n",
    "\n",
    "In Machine Learning (ML) or Deep Learning (DP), most of the time we will not use the standard math libraries fo Python. This is because, we usually will be using mathematical libraries especially designed for Data Science as NumPy or Pandas, and we can not use this math functions in those libraries. We do have to __import__ math.\n",
    "\n",
    "Some of the basic __math functions__ are:\n",
    "\n",
    " - __ceil()__ transforms a real number to the closest integer that is greater or equal than the real number.\n",
    " - __floor()__ transforms a real number to the closest integer that is lower or equal than the real number.\n",
    " - __trunc()__ ignores the real part of a real number so it converts to an integer.\n",
    " - __exp()__ is basically the exponential function: e^(x).\n",
    " - __pow(m,n)__ means the function that represents: m^n.\n",
    " - __sqrt()__ is basically the square root of a number.\n",
    " - __log()__ is the log in base e. If we want another base, we can add it with a comma: log(7,10) is the log(7) with a base of 10.\n",
    " - __pi__ =  3,1415...\n",
    " - __e__ = 2,7...\n",
    " - __sin()__ sine function in __radians__, if we want it in degrees we can use the following math function:\n",
    " - __randians__ converts a number in degrees to radians.\n",
    " - __cos()__ cosine function.\n",
    " - __tan()__ tangent function.\n",
    " - __sum(n)__ is the sum of all the integers between 0 and n.\n",
    " - __fsum()__ it is a sum of floating point numbers, useful with lists of real numbers; we would isea fsum(list).\n",
    " - __gcd()__ determines the greater common divisor between two numbers-\n",
    " - __factorial()__ determines the factorial of a number: 5! = 120.\n",
    " "
   ]
  },
  {
   "cell_type": "markdown",
   "metadata": {},
   "source": [
    "# 2. NumPy\n",
    "\n",
    "## 2.1 What is NumPy?\n",
    "\n",
    "NumPy is the fundamental package for scientific computing with Python; it stands for Numeric Python. NumPy contains among other things:\n",
    "\n",
    " - A powerful N-dimensional array object\n",
    " - Sophisticated (broadcasting) functions\n",
    " - Tools for integrating C/C++ and Fortran code\n",
    " - Useful linear algebra, Fourier transform, and random number capabilities\n",
    "\n",
    "Besides its obvious scientific uses, NumPy can also be used as an __efficient__ multi-dimensional container of generic data. Arbitrary data-types can be defined. This allows NumPy to seamlessly and speedily integrate with a wide variety of databases. \n",
    "\n",
    "\n",
    "## 2.2 What makes NumPy faster?\n",
    "\n",
    "Lists in Python are data structures that manages data as if it is a column with several rows. In lists, each element of the list is stored in the RAM but not continuous to the other elements of the list, so each calculation we want to do with all the elementos of the list, we have to acces multiple memory spaces that are not continuously arranged.\n",
    "\n",
    "However, NumPy handles adding or appending elements by creating new arrays, storing all the elements continuously and deleting the prior array; this has the advantage that me computer does not has to look after the memory space in which each element is stored.\n",
    "\n",
    "Another reason, is that, under the hood, NumPy uses C programming language, which makes it faster than Python itself.\n",
    "\n",
    "\n",
    "## 2.3 NumPy Arrays\n",
    "\n",
    "It is the most fundamental structure of NumPy. AN array is almost as a list but is not uniquely one-dimension, it can be of a n-dimension big. One-dimension arrays are called vectors, two-dimension arrays are called matrix and if more than two dimensions it is called a multi-dimension array.\n",
    "\n",
    "Some examples could be as the ones presented below:"
   ]
  },
  {
   "cell_type": "code",
   "execution_count": 6,
   "metadata": {},
   "outputs": [
    {
     "name": "stdout",
     "output_type": "stream",
     "text": [
      "[ 1  2  3  4  5  6  7  8  9 10 11 12]\n",
      "\n",
      "[[ 1  2  3  4  5  6  7  8  9 10]\n",
      " [11 12 13 14 15 16 17 18 19 20]]\n"
     ]
    }
   ],
   "source": [
    "import numpy as np\n",
    "\n",
    "one_d = np.array([1, 2, 3, 4, 5, 6, 7, 8, 9, 10, 11, 12])\n",
    "two_d = np.array([[1, 2, 3, 4, 5, 6, 7, 8, 9, 10],\n",
    "                  [11, 12, 13, 14, 15, 16, 17, 18, 19, 20]])\n",
    "\n",
    "print(one_d)\n",
    "print()\n",
    "print(two_d)"
   ]
  },
  {
   "cell_type": "markdown",
   "metadata": {},
   "source": [
    "We can also create a two-dimensional array from more than one one-dimensional arrays:"
   ]
  },
  {
   "cell_type": "code",
   "execution_count": 8,
   "metadata": {},
   "outputs": [
    {
     "data": {
      "text/plain": [
       "array([[ 1,  2,  3,  4,  5,  6,  7,  8,  9, 10, 11, 12],\n",
       "       [11, 12, 13, 14, 15, 16, 17, 18, 19, 20, 21, 22]])"
      ]
     },
     "execution_count": 8,
     "metadata": {},
     "output_type": "execute_result"
    }
   ],
   "source": [
    "a = np.array([1, 2, 3, 4, 5, 6, 7, 8, 9, 10, 11, 12])\n",
    "b = np.array([11, 12, 13, 14, 15, 16, 17, 18, 19, 20, 21, 22])\n",
    "\n",
    "c = np.array([a,b])\n",
    "c"
   ]
  },
  {
   "cell_type": "markdown",
   "metadata": {},
   "source": [
    "To get the dimensions of an array, we can use the __.shape__ method which will give us a tupple with the size of each n-dimentions. To do arrays more quickly, instead of using the range() function, we can use the __np.arange()__ which does the same.\n",
    "\n",
    "Another function we can use is __.reshape()__. This is useful if we want to take and array of m elements with n-dimentions and change it to another m element array of p-dimentions (p != n). For instance:"
   ]
  },
  {
   "cell_type": "code",
   "execution_count": 11,
   "metadata": {},
   "outputs": [
    {
     "data": {
      "text/plain": [
       "array([ 1,  2,  3,  4,  5,  6,  7,  8,  9, 10, 11, 12])"
      ]
     },
     "execution_count": 11,
     "metadata": {},
     "output_type": "execute_result"
    }
   ],
   "source": [
    "a = np.arange(1,13)\n",
    "a"
   ]
  },
  {
   "cell_type": "code",
   "execution_count": 13,
   "metadata": {},
   "outputs": [
    {
     "data": {
      "text/plain": [
       "(12,)"
      ]
     },
     "execution_count": 13,
     "metadata": {},
     "output_type": "execute_result"
    }
   ],
   "source": [
    "a.shape"
   ]
  },
  {
   "cell_type": "code",
   "execution_count": 14,
   "metadata": {},
   "outputs": [
    {
     "data": {
      "text/plain": [
       "array([[ 1,  2,  3],\n",
       "       [ 4,  5,  6],\n",
       "       [ 7,  8,  9],\n",
       "       [10, 11, 12]])"
      ]
     },
     "execution_count": 14,
     "metadata": {},
     "output_type": "execute_result"
    }
   ],
   "source": [
    "a.reshape(4,3)"
   ]
  },
  {
   "cell_type": "markdown",
   "metadata": {},
   "source": [
    "## 2.4 Array operations\n",
    "\n",
    "There are to main types of operations that can be done with arrays in NumPy: Element-wise operations and Agreggate operations.\n",
    "\n",
    "\n",
    "### 2.4.1 Element-wise operations\n",
    "\n",
    "When we sum lists in Python, we create an even longer list. For example:"
   ]
  },
  {
   "cell_type": "code",
   "execution_count": 20,
   "metadata": {},
   "outputs": [
    {
     "data": {
      "text/plain": [
       "[1, 2, 3, -1, 1, 4]"
      ]
     },
     "execution_count": 20,
     "metadata": {},
     "output_type": "execute_result"
    }
   ],
   "source": [
    "a = [1, 2, 3] \n",
    "b = [-1, 1, 4]\n",
    "\n",
    "c = a + b\n",
    "c"
   ]
  },
  {
   "cell_type": "markdown",
   "metadata": {},
   "source": [
    "But it would be very useful to have some sort of matrix operations instead. That's why NumPy have these element-wise operations. We can use the sum of NumPy arrays."
   ]
  },
  {
   "cell_type": "code",
   "execution_count": 21,
   "metadata": {},
   "outputs": [
    {
     "data": {
      "text/plain": [
       "array([0, 3, 7])"
      ]
     },
     "execution_count": 21,
     "metadata": {},
     "output_type": "execute_result"
    }
   ],
   "source": [
    "import numpy as np\n",
    "\n",
    "a = np.array([1, 2, 3])\n",
    "b = np.array([-1, 1, 4])\n",
    "\n",
    "c = a + b\n",
    "c"
   ]
  },
  {
   "cell_type": "markdown",
   "metadata": {},
   "source": [
    "The same thing happens with multiplication. We have also another phenomenom called __broadcasting__ which is when you try to sum a one-dimention array of p-lenght (p != 1) with a one-dimention array of length 1. In this case, the second array is extended to fit the size of the first array and it's summed element-wise. It's important that the second array must by a __single value__, if not it will not work as desired."
   ]
  },
  {
   "cell_type": "code",
   "execution_count": 24,
   "metadata": {},
   "outputs": [
    {
     "data": {
      "text/plain": [
       "array([4, 8, 5])"
      ]
     },
     "execution_count": 24,
     "metadata": {},
     "output_type": "execute_result"
    }
   ],
   "source": [
    "a = np.array([1, 5, 2])\n",
    "b = np.array([3])\n",
    "\n",
    "c = a + b\n",
    "c"
   ]
  },
  {
   "cell_type": "markdown",
   "metadata": {},
   "source": [
    "### 2.4.2 Agreggate operations\n",
    "\n",
    "This operations are used with more than one number at a time. We can sum the numbers allong a certain axis, taking into consideration that axis 0 is the __column axis__ and axis 1 is the __row axis__.\n",
    "\n",
    "For example, if we want to sum all the elements of the array, or from the one of the rows:"
   ]
  },
  {
   "cell_type": "code",
   "execution_count": 30,
   "metadata": {},
   "outputs": [
    {
     "name": "stdout",
     "output_type": "stream",
     "text": [
      "21\n",
      "\n",
      "[ 6 15]\n",
      "\n",
      "[5 7 9]\n"
     ]
    }
   ],
   "source": [
    "a = np.array([[1, 2, 3],\n",
    "                [4, 5, 6]])\n",
    "\n",
    "b = np.sum(a)  # This will sum all the elements in the array.\n",
    "c = np.sum(a, axis = 1) # This will sum all the elements of each row.\n",
    "d = np.sum(a, axis = 0) # This will sum all the elements of each column.\n",
    "\n",
    "print(b)\n",
    "print()\n",
    "print(c)\n",
    "print()\n",
    "print(d)"
   ]
  },
  {
   "cell_type": "markdown",
   "metadata": {},
   "source": [
    "We can also do the same with the functions: __np.max()__, __np.min()__, __np,mean()__, etc."
   ]
  },
  {
   "cell_type": "markdown",
   "metadata": {},
   "source": [
    "## 2.5 Array indexing and slicing\n",
    "\n",
    "\n",
    "### 2.5.1 Array indexing\n",
    "\n",
    "Indexing in arrays works almost exactly the same as Python's lists. We have the same 0 based index and we can recall the end of the array with a -1. The same works for two-dimentional arrays."
   ]
  },
  {
   "cell_type": "code",
   "execution_count": 31,
   "metadata": {},
   "outputs": [
    {
     "name": "stdout",
     "output_type": "stream",
     "text": [
      "4  is the same as  4\n"
     ]
    }
   ],
   "source": [
    "a = np.array([[1, 2, 3],\n",
    "              [4, 5, 6]])\n",
    "\n",
    "print(a[1,0], \" is the same as \", a[-1, -3])"
   ]
  },
  {
   "cell_type": "markdown",
   "metadata": {},
   "source": [
    "### 2.5.2 Array slicing\n",
    "\n",
    "It's basically the same but with more dimentions. An example can explain it perfectly."
   ]
  },
  {
   "cell_type": "code",
   "execution_count": 32,
   "metadata": {},
   "outputs": [
    {
     "data": {
      "text/plain": [
       "array([[ 1,  2,  3,  4],\n",
       "       [ 5,  6,  7,  8],\n",
       "       [ 9, 10, 11, 12],\n",
       "       [13, 14, 15, 16]])"
      ]
     },
     "execution_count": 32,
     "metadata": {},
     "output_type": "execute_result"
    }
   ],
   "source": [
    "a = np.array([[1, 2, 3, 4],\n",
    "              [5, 6, 7, 8],\n",
    "              [9, 10, 11, 12],\n",
    "              [13, 14, 15, 16]])\n",
    "\n",
    "a"
   ]
  },
  {
   "cell_type": "markdown",
   "metadata": {},
   "source": [
    "What shoud we do to extract the center 2x2 matrix?"
   ]
  },
  {
   "cell_type": "code",
   "execution_count": 34,
   "metadata": {},
   "outputs": [
    {
     "data": {
      "text/plain": [
       "array([[ 6,  7],\n",
       "       [10, 11]])"
      ]
     },
     "execution_count": 34,
     "metadata": {},
     "output_type": "execute_result"
    }
   ],
   "source": [
    "b = a[1:3,1:3]\n",
    "b"
   ]
  },
  {
   "cell_type": "markdown",
   "metadata": {},
   "source": [
    "And an extra exercise, how can we convert it to a 1x4 array?"
   ]
  },
  {
   "cell_type": "code",
   "execution_count": 35,
   "metadata": {},
   "outputs": [
    {
     "data": {
      "text/plain": [
       "array([[ 6,  7, 10, 11]])"
      ]
     },
     "execution_count": 35,
     "metadata": {},
     "output_type": "execute_result"
    }
   ],
   "source": [
    "c = b.reshape(1,4)\n",
    "c"
   ]
  },
  {
   "cell_type": "markdown",
   "metadata": {},
   "source": [
    "## 2.6 Array manupilation\n",
    "\n",
    "We can __delete__, __append__ or __insert__ particular columns or rows.\n",
    "\n",
    "\n",
    "### 2.6.1 Appending arrays\n",
    "\n",
    "How to append a row or column into an already existing matrix? Using de __np.append()__ function."
   ]
  },
  {
   "cell_type": "code",
   "execution_count": 52,
   "metadata": {},
   "outputs": [
    {
     "name": "stdout",
     "output_type": "stream",
     "text": [
      "[[ 1  2  3  4]\n",
      " [ 5  6  7  8]\n",
      " [ 9 10 11 12]\n",
      " [13 14 15 16]\n",
      " [ 2  3  4  5]]\n"
     ]
    }
   ],
   "source": [
    "b = np.array([2, 3, 4, 5])\n",
    "\n",
    "append_row_wise = np.append(a, [b], axis = 0)\n",
    "\n",
    "print(append_row_wise)\n"
   ]
  },
  {
   "cell_type": "code",
   "execution_count": 57,
   "metadata": {},
   "outputs": [
    {
     "name": "stdout",
     "output_type": "stream",
     "text": [
      "[[ 1  2  3  4  2]\n",
      " [ 5  6  7  8  3]\n",
      " [ 9 10 11 12  4]\n",
      " [13 14 15 16  5]]\n"
     ]
    }
   ],
   "source": [
    "c = b.reshape(4,-1)  # Transform the 4-length row into a column\n",
    "\n",
    "append_col_wise = np.append(a, c, axis = 1)\n",
    "# In this case, is not necessary to put [] in c as it already is a two-dimentional array\n",
    "\n",
    "print(append_col_wise)"
   ]
  },
  {
   "cell_type": "markdown",
   "metadata": {},
   "source": [
    "### 2.6.2 Inserting arrays\n",
    "\n",
    "We will use the __np.insert()__ function instead of append. You have two select in which row/column would you like your array to be inserted, and in which axis.\n",
    "\n",
    "For example:"
   ]
  },
  {
   "cell_type": "code",
   "execution_count": 59,
   "metadata": {},
   "outputs": [
    {
     "name": "stdout",
     "output_type": "stream",
     "text": [
      "[[ 1  2  3  4  5]\n",
      " [ 6  7  8  9 10]\n",
      " [-1 -2 -3 -4 -5]\n",
      " [11 12 13 14 15]\n",
      " [16 17 18 19 20]\n",
      " [21 22 23 24 25]]\n"
     ]
    }
   ],
   "source": [
    "a = np.array([[1, 2, 3, 4, 5],\n",
    "              [6, 7, 8, 9, 10],\n",
    "              [11, 12, 13, 14, 15],\n",
    "              [16, 17, 18, 19, 20],\n",
    "              [21, 22, 23, 24, 25]])\n",
    "\n",
    "b = np.array([-1, -2, -3, -4, -5])\n",
    "\n",
    "b_in_third_row = np.insert(a, 2, b, axis = 0 )\n",
    "\n",
    "print(b_in_third_row)"
   ]
  },
  {
   "cell_type": "code",
   "execution_count": 62,
   "metadata": {},
   "outputs": [
    {
     "name": "stdout",
     "output_type": "stream",
     "text": [
      "[[ 1  2  3 -1  4  5]\n",
      " [ 6  7  8 -2  9 10]\n",
      " [11 12 13 -3 14 15]\n",
      " [16 17 18 -4 19 20]\n",
      " [21 22 23 -5 24 25]]\n"
     ]
    }
   ],
   "source": [
    "b_in_fourth_column = np.insert(a, 3, b, axis = 1 )\n",
    "print(b_in_fourth_column)"
   ]
  },
  {
   "cell_type": "markdown",
   "metadata": {},
   "source": [
    "### 2.6.3 Deleting arrays\n",
    "\n",
    "We now are gonna use the __np.delete()__ function, in which we have to give in which array we want to delete a row/column, specify the index number of that row/column and in which axis.\n",
    "\n",
    "For example, we will delete the inserted column in the previous example:"
   ]
  },
  {
   "cell_type": "code",
   "execution_count": 63,
   "metadata": {
    "scrolled": true
   },
   "outputs": [
    {
     "name": "stdout",
     "output_type": "stream",
     "text": [
      "[[ 1  2  3  4  5]\n",
      " [ 6  7  8  9 10]\n",
      " [11 12 13 14 15]\n",
      " [16 17 18 19 20]\n",
      " [21 22 23 24 25]]\n"
     ]
    }
   ],
   "source": [
    "b_in_fourth_column = np.delete(b_in_fourth_column, 3, axis = 1)\n",
    "print(b_in_fourth_column)"
   ]
  }
 ],
 "metadata": {
  "kernelspec": {
   "display_name": "Python 3",
   "language": "python",
   "name": "python3"
  },
  "language_info": {
   "codemirror_mode": {
    "name": "ipython",
    "version": 3
   },
   "file_extension": ".py",
   "mimetype": "text/x-python",
   "name": "python",
   "nbconvert_exporter": "python",
   "pygments_lexer": "ipython3",
   "version": "3.8.2"
  }
 },
 "nbformat": 4,
 "nbformat_minor": 4
}
